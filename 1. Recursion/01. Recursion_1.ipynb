{
 "cells": [
  {
   "cell_type": "markdown",
   "id": "9be8b478",
   "metadata": {},
   "source": [
    "# <font color = 'red'>Recursion - 1</font>"
   ]
  },
  {
   "cell_type": "markdown",
   "id": "8135edcc",
   "metadata": {},
   "source": [
    "## <font color = 'green'>Factorial</font>"
   ]
  },
  {
   "cell_type": "code",
   "execution_count": 1,
   "id": "70dac612",
   "metadata": {},
   "outputs": [
    {
     "name": "stdout",
     "output_type": "stream",
     "text": [
      "Enter the number : 7\n",
      "factorial is :  5040\n"
     ]
    }
   ],
   "source": [
    "def fact(n):\n",
    "    if n == 0:\n",
    "        return 1\n",
    "    return n * fact(n-1)\n",
    "\n",
    "n = int(input('Enter the number : '))\n",
    "print('factorial is : ', fact(n))"
   ]
  },
  {
   "cell_type": "markdown",
   "id": "26a25564",
   "metadata": {},
   "source": [
    "## <font color = 'green'>Sum of First N Natural Numbers</font>"
   ]
  },
  {
   "cell_type": "code",
   "execution_count": 2,
   "id": "cfa2cd72",
   "metadata": {},
   "outputs": [
    {
     "name": "stdout",
     "output_type": "stream",
     "text": [
      "Enter the number : 7\n",
      "Sum of first n natural number is : 28\n"
     ]
    }
   ],
   "source": [
    "def sum_n(n):\n",
    "    if n == 0:\n",
    "        return 0\n",
    "    return n + sum_n(n-1)\n",
    "\n",
    "n = int(input('Enter the number : '))\n",
    "print('Sum of first n natural number is :', sum_n(n))"
   ]
  },
  {
   "cell_type": "markdown",
   "id": "1345b7fb",
   "metadata": {},
   "source": [
    "## <font color = 'green'>Print From 1 to N</font>"
   ]
  },
  {
   "cell_type": "code",
   "execution_count": 3,
   "id": "f0f1d22a",
   "metadata": {},
   "outputs": [
    {
     "name": "stdout",
     "output_type": "stream",
     "text": [
      "Enter the number : 7\n",
      "1\n",
      "2\n",
      "3\n",
      "4\n",
      "5\n",
      "6\n",
      "7\n"
     ]
    }
   ],
   "source": [
    "def print_1_to_n(n):\n",
    "    if n == 0:\n",
    "        return\n",
    "    print_1_to_n(n-1)\n",
    "    print(n)\n",
    "    return\n",
    "    \n",
    "n = int(input('Enter the number : '))\n",
    "print_1_to_n(n)"
   ]
  },
  {
   "cell_type": "markdown",
   "id": "68a2f923",
   "metadata": {},
   "source": [
    "## <font color = 'green'>Print From N to 1</font>"
   ]
  },
  {
   "cell_type": "code",
   "execution_count": 4,
   "id": "37383c71",
   "metadata": {},
   "outputs": [
    {
     "name": "stdout",
     "output_type": "stream",
     "text": [
      "Enter the number : 7\n",
      "7\n",
      "6\n",
      "5\n",
      "4\n",
      "3\n",
      "2\n",
      "1\n"
     ]
    }
   ],
   "source": [
    "def print_n_to_1(n):\n",
    "    if n == 0:\n",
    "        return\n",
    "    print(n)\n",
    "    print_n_to_1(n-1)\n",
    "    return\n",
    "\n",
    "n = int(input('Enter the number : '))\n",
    "print_n_to_1(n)"
   ]
  },
  {
   "cell_type": "markdown",
   "id": "7ea19043",
   "metadata": {},
   "source": [
    "## <font color = 'green'>Nth Fibonacci Number</font>"
   ]
  },
  {
   "cell_type": "code",
   "execution_count": 5,
   "id": "190a0df6",
   "metadata": {},
   "outputs": [
    {
     "name": "stdout",
     "output_type": "stream",
     "text": [
      "Enter the number : 7\n",
      "Nth Fibonacci Number is : 13\n"
     ]
    }
   ],
   "source": [
    "def fibonacci(n):\n",
    "    if n == 1 or n == 2:\n",
    "        return 1\n",
    "    return fibonacci(n-1) + fibonacci(n-2)\n",
    "\n",
    "n = int(input('Enter the number : '))\n",
    "print('Nth Fibonacci Number is :',fibonacci(n))"
   ]
  },
  {
   "cell_type": "code",
   "execution_count": null,
   "id": "78f6b083",
   "metadata": {},
   "outputs": [],
   "source": []
  }
 ],
 "metadata": {
  "kernelspec": {
   "display_name": "Python 3 (ipykernel)",
   "language": "python",
   "name": "python3"
  },
  "language_info": {
   "codemirror_mode": {
    "name": "ipython",
    "version": 3
   },
   "file_extension": ".py",
   "mimetype": "text/x-python",
   "name": "python",
   "nbconvert_exporter": "python",
   "pygments_lexer": "ipython3",
   "version": "3.11.5"
  }
 },
 "nbformat": 4,
 "nbformat_minor": 5
}
